{
 "cells": [
  {
   "cell_type": "code",
   "execution_count": 2,
   "id": "73faf6c1",
   "metadata": {},
   "outputs": [
    {
     "name": "stdout",
     "output_type": "stream",
     "text": [
      "Columns: 8, Rows: 1000\n",
      "   Unnamed: 0       Date  Gender  Age Product Category  Quantity  \\\n",
      "0           0 2023-11-24    Male   34           Beauty         3   \n",
      "1           1 2023-02-27  Female   26         Clothing         2   \n",
      "2           2 2023-01-13    Male   50      Electronics         1   \n",
      "3           3 2023-05-21    Male   37         Clothing         1   \n",
      "4           4 2023-05-06    Male   30           Beauty         2   \n",
      "\n",
      "   Price per Unit  Total Amount  \n",
      "0              50           150  \n",
      "1             500          1000  \n",
      "2              30            30  \n",
      "3             500           500  \n",
      "4              50           100  \n",
      "Extracted 1000 rows fully.\n"
     ]
    },
    {
     "name": "stderr",
     "output_type": "stream",
     "text": [
      "C:\\Users\\Admin\\AppData\\Local\\Temp\\ipykernel_12516\\2439336308.py:4: UserWarning: Parsing dates in %Y-%m-%d format when dayfirst=True was specified. Pass `dayfirst=False` or specify a format to silence this warning.\n",
      "  df = pd.read_csv(\"C:\\\\Users\\\\Admin\\Searches\\Downloads\\\\archive\\\\Sales Dataset.csv\", parse_dates=['Date'], dayfirst=True)\n"
     ]
    }
   ],
   "source": [
    "import pandas as pd\n",
    "\n",
    "# Load the dataset\n",
    "df = pd.read_csv(\"C:\\\\Users\\\\Admin\\Searches\\Downloads\\\\archive\\\\Sales Dataset.csv\", parse_dates=['Date'], dayfirst=True)\n",
    "\n",
    "# Display stats\n",
    "print(f\"Columns: {df.shape[1]}, Rows: {df.shape[0]}\")\n",
    "print(df.head())\n",
    "\n",
    "# Extraction message\n",
    "print(f\"Extracted {len(df)} rows fully.\")\n"
   ]
  },
  {
   "cell_type": "code",
   "execution_count": 5,
   "id": "c6e3fc05",
   "metadata": {},
   "outputs": [
    {
     "name": "stdout",
     "output_type": "stream",
     "text": [
      "Empty DataFrame\n",
      "Columns: [Unnamed: 0, Date, Gender, Age, Product Category, Quantity, Price per Unit, Total Amount]\n",
      "Index: []\n",
      "Extracted 0 rows incrementally since last check.\n"
     ]
    }
   ],
   "source": [
    "from datetime import datetime\n",
    "\n",
    "# Load last extraction time\n",
    "try:\n",
    "    with open('last_extraction.txt', 'r') as f:\n",
    "        last_extraction = pd.to_datetime(f.read().strip())\n",
    "except FileNotFoundError:\n",
    "    # Default to old date if file not found\n",
    "    last_extraction = pd.to_datetime('2000-01-01 00:00:00')\n",
    "\n",
    "# Filter new or updated records\n",
    "new_data = df[df['Date'] > last_extraction]\n",
    "\n",
    "# Show new rows\n",
    "print(new_data)\n",
    "\n",
    "print(f\"Extracted {len(new_data)} rows incrementally since last check.\")\n"
   ]
  },
  {
   "cell_type": "code",
   "execution_count": 6,
   "id": "af2e39b6",
   "metadata": {},
   "outputs": [
    {
     "name": "stdout",
     "output_type": "stream",
     "text": [
      "Saved new extraction timestamp: 2025-06-24 15:01:46\n"
     ]
    }
   ],
   "source": [
    "# Save current timestamp to file\n",
    "now = datetime.now().strftime('%Y-%m-%d %H:%M:%S')\n",
    "\n",
    "with open('last_extraction.txt', 'w') as f:\n",
    "    f.write(now)\n",
    "\n",
    "print(f\"Saved new extraction timestamp: {now}\")\n"
   ]
  }
 ],
 "metadata": {
  "kernelspec": {
   "display_name": "Python 3",
   "language": "python",
   "name": "python3"
  },
  "language_info": {
   "codemirror_mode": {
    "name": "ipython",
    "version": 3
   },
   "file_extension": ".py",
   "mimetype": "text/x-python",
   "name": "python",
   "nbconvert_exporter": "python",
   "pygments_lexer": "ipython3",
   "version": "3.11.9"
  }
 },
 "nbformat": 4,
 "nbformat_minor": 5
}
