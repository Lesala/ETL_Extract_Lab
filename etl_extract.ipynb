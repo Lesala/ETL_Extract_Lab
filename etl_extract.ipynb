{
 "cells": [
  {
   "cell_type": "code",
   "execution_count": 1,
   "id": "73faf6c1",
   "metadata": {},
   "outputs": [
    {
     "name": "stdout",
     "output_type": "stream",
     "text": [
      "Columns: 8, Rows: 1000\n",
      "   Unnamed: 0       Date  Gender  Age Product Category  Quantity  \\\n",
      "0           0 2023-11-24    Male   34           Beauty         3   \n",
      "1           1 2023-02-27  Female   26         Clothing         2   \n",
      "2           2 2023-01-13    Male   50      Electronics         1   \n",
      "3           3 2023-05-21    Male   37         Clothing         1   \n",
      "4           4 2023-05-06    Male   30           Beauty         2   \n",
      "\n",
      "   Price per Unit  Total Amount  \n",
      "0              50           150  \n",
      "1             500          1000  \n",
      "2              30            30  \n",
      "3             500           500  \n",
      "4              50           100  \n",
      "Extracted 1000 rows fully.\n"
     ]
    },
    {
     "name": "stderr",
     "output_type": "stream",
     "text": [
      "C:\\Users\\Admin\\AppData\\Local\\Temp\\ipykernel_22188\\2439336308.py:4: UserWarning: Parsing dates in %Y-%m-%d format when dayfirst=True was specified. Pass `dayfirst=False` or specify a format to silence this warning.\n",
      "  df = pd.read_csv(\"C:\\\\Users\\\\Admin\\Searches\\Downloads\\\\archive\\\\Sales Dataset.csv\", parse_dates=['Date'], dayfirst=True)\n"
     ]
    }
   ],
   "source": [
    "import pandas as pd\n",
    "\n",
    "# Load the dataset\n",
    "df = pd.read_csv(\"C:\\\\Users\\\\Admin\\Searches\\Downloads\\\\archive\\\\Sales Dataset.csv\", parse_dates=['Date'], dayfirst=True)\n",
    "\n",
    "# Display stats\n",
    "print(f\"Columns: {df.shape[1]}, Rows: {df.shape[0]}\")\n",
    "print(df.head())\n",
    "\n",
    "# Extraction message\n",
    "print(f\"Extracted {len(df)} rows fully.\")\n"
   ]
  },
  {
   "cell_type": "code",
   "execution_count": 2,
   "id": "c6e3fc05",
   "metadata": {},
   "outputs": [
    {
     "name": "stdout",
     "output_type": "stream",
     "text": [
      "Empty DataFrame\n",
      "Columns: [Unnamed: 0, Date, Gender, Age, Product Category, Quantity, Price per Unit, Total Amount]\n",
      "Index: []\n",
      "Extracted 0 rows incrementally since last check.\n"
     ]
    }
   ],
   "source": [
    "from datetime import datetime\n",
    "\n",
    "# Load last extraction time\n",
    "try:\n",
    "    with open('last_extraction.txt', 'r') as f:\n",
    "        last_extraction = pd.to_datetime(f.read().strip())\n",
    "except FileNotFoundError:\n",
    "    # Default to old date if file not found\n",
    "    last_extraction = pd.to_datetime('2000-01-01 00:00:00')\n",
    "\n",
    "# Filter new or updated records\n",
    "new_data = df[df['Date'] > last_extraction]\n",
    "\n",
    "# Show new rows\n",
    "print(new_data)\n",
    "\n",
    "print(f\"Extracted {len(new_data)} rows incrementally since last check.\")\n"
   ]
  },
  {
   "cell_type": "code",
   "execution_count": 3,
   "id": "af2e39b6",
   "metadata": {},
   "outputs": [
    {
     "name": "stdout",
     "output_type": "stream",
     "text": [
      "Saved new extraction timestamp: 2025-06-29 19:05:09\n"
     ]
    }
   ],
   "source": [
    "# Save current timestamp to file\n",
    "now = datetime.now().strftime('%Y-%m-%d %H:%M:%S')\n",
    "\n",
    "with open('last_extraction.txt', 'w') as f:\n",
    "    f.write(now)\n",
    "\n",
    "print(f\"Saved new extraction timestamp: {now}\")\n"
   ]
  },
  {
   "cell_type": "markdown",
   "id": "586d893b",
   "metadata": {},
   "source": [
    "Full Transformation"
   ]
  },
  {
   "cell_type": "code",
   "execution_count": 4,
   "id": "b0518f26",
   "metadata": {},
   "outputs": [],
   "source": [
    "# fully transforming data\n",
    "\n",
    "# Copying full data\n",
    "df_full = df.copy()"
   ]
  },
  {
   "cell_type": "code",
   "execution_count": 5,
   "id": "c0bd4c83",
   "metadata": {},
   "outputs": [
    {
     "name": "stdout",
     "output_type": "stream",
     "text": [
      "the sum of duplicates is:  0\n"
     ]
    }
   ],
   "source": [
    "# 1. Cleaning\n",
    "print(\"the sum of duplicates is: \", df_full.duplicated().sum())\n",
    "df_full.drop_duplicates(inplace=True)\n",
    "df_full.fillna({'quantity': 0, 'unit_price': 0}, inplace=True)\n"
   ]
  },
  {
   "cell_type": "code",
   "execution_count": 7,
   "id": "bd936393",
   "metadata": {},
   "outputs": [],
   "source": [
    "# 2. Enrichment\n",
    "df_full['Total_value'] = df_full['Quantity'] * df_full['Price per Unit']"
   ]
  },
  {
   "cell_type": "code",
   "execution_count": 16,
   "id": "193a95e5",
   "metadata": {},
   "outputs": [],
   "source": [
    "# 3. Structural\n",
    "df_full['Date'] = pd.to_datetime(df_full['Date'])"
   ]
  },
  {
   "cell_type": "code",
   "execution_count": 15,
   "id": "6829f5e1",
   "metadata": {},
   "outputs": [
    {
     "name": "stdout",
     "output_type": "stream",
     "text": [
      "Full data transformed and saved to transformed_full.csv\n"
     ]
    }
   ],
   "source": [
    "# Saving transformed full data\n",
    "df_full.to_csv('transformed_full.csv', index=False)\n",
    "print(\"Full data transformed and saved to transformed_full.csv\")\n"
   ]
  },
  {
   "cell_type": "code",
   "execution_count": 14,
   "id": "123229cf",
   "metadata": {},
   "outputs": [
    {
     "data": {
      "text/html": [
       "<div>\n",
       "<style scoped>\n",
       "    .dataframe tbody tr th:only-of-type {\n",
       "        vertical-align: middle;\n",
       "    }\n",
       "\n",
       "    .dataframe tbody tr th {\n",
       "        vertical-align: top;\n",
       "    }\n",
       "\n",
       "    .dataframe thead th {\n",
       "        text-align: right;\n",
       "    }\n",
       "</style>\n",
       "<table border=\"1\" class=\"dataframe\">\n",
       "  <thead>\n",
       "    <tr style=\"text-align: right;\">\n",
       "      <th></th>\n",
       "      <th>Unnamed: 0</th>\n",
       "      <th>Date</th>\n",
       "      <th>Gender</th>\n",
       "      <th>Age</th>\n",
       "      <th>Product Category</th>\n",
       "      <th>Quantity</th>\n",
       "      <th>Price per Unit</th>\n",
       "      <th>Total Amount</th>\n",
       "      <th>Total_value</th>\n",
       "      <th>DAte</th>\n",
       "    </tr>\n",
       "  </thead>\n",
       "  <tbody>\n",
       "    <tr>\n",
       "      <th>0</th>\n",
       "      <td>0</td>\n",
       "      <td>2023-11-24</td>\n",
       "      <td>Male</td>\n",
       "      <td>34</td>\n",
       "      <td>Beauty</td>\n",
       "      <td>3</td>\n",
       "      <td>50</td>\n",
       "      <td>150</td>\n",
       "      <td>150</td>\n",
       "      <td>2023-11-24</td>\n",
       "    </tr>\n",
       "    <tr>\n",
       "      <th>1</th>\n",
       "      <td>1</td>\n",
       "      <td>2023-02-27</td>\n",
       "      <td>Female</td>\n",
       "      <td>26</td>\n",
       "      <td>Clothing</td>\n",
       "      <td>2</td>\n",
       "      <td>500</td>\n",
       "      <td>1000</td>\n",
       "      <td>1000</td>\n",
       "      <td>2023-02-27</td>\n",
       "    </tr>\n",
       "    <tr>\n",
       "      <th>2</th>\n",
       "      <td>2</td>\n",
       "      <td>2023-01-13</td>\n",
       "      <td>Male</td>\n",
       "      <td>50</td>\n",
       "      <td>Electronics</td>\n",
       "      <td>1</td>\n",
       "      <td>30</td>\n",
       "      <td>30</td>\n",
       "      <td>30</td>\n",
       "      <td>2023-01-13</td>\n",
       "    </tr>\n",
       "    <tr>\n",
       "      <th>3</th>\n",
       "      <td>3</td>\n",
       "      <td>2023-05-21</td>\n",
       "      <td>Male</td>\n",
       "      <td>37</td>\n",
       "      <td>Clothing</td>\n",
       "      <td>1</td>\n",
       "      <td>500</td>\n",
       "      <td>500</td>\n",
       "      <td>500</td>\n",
       "      <td>2023-05-21</td>\n",
       "    </tr>\n",
       "    <tr>\n",
       "      <th>4</th>\n",
       "      <td>4</td>\n",
       "      <td>2023-05-06</td>\n",
       "      <td>Male</td>\n",
       "      <td>30</td>\n",
       "      <td>Beauty</td>\n",
       "      <td>2</td>\n",
       "      <td>50</td>\n",
       "      <td>100</td>\n",
       "      <td>100</td>\n",
       "      <td>2023-05-06</td>\n",
       "    </tr>\n",
       "  </tbody>\n",
       "</table>\n",
       "</div>"
      ],
      "text/plain": [
       "   Unnamed: 0       Date  Gender  Age Product Category  Quantity  \\\n",
       "0           0 2023-11-24    Male   34           Beauty         3   \n",
       "1           1 2023-02-27  Female   26         Clothing         2   \n",
       "2           2 2023-01-13    Male   50      Electronics         1   \n",
       "3           3 2023-05-21    Male   37         Clothing         1   \n",
       "4           4 2023-05-06    Male   30           Beauty         2   \n",
       "\n",
       "   Price per Unit  Total Amount  Total_value       DAte  \n",
       "0              50           150          150 2023-11-24  \n",
       "1             500          1000         1000 2023-02-27  \n",
       "2              30            30           30 2023-01-13  \n",
       "3             500           500          500 2023-05-21  \n",
       "4              50           100          100 2023-05-06  "
      ]
     },
     "execution_count": 14,
     "metadata": {},
     "output_type": "execute_result"
    }
   ],
   "source": [
    "df_full.head(5)"
   ]
  },
  {
   "cell_type": "markdown",
   "id": "1566c40d",
   "metadata": {},
   "source": [
    "Incremental Transformation"
   ]
  },
  {
   "cell_type": "code",
   "execution_count": 17,
   "id": "e0922f4d",
   "metadata": {},
   "outputs": [],
   "source": [
    "# Transform Incremental Data\n",
    "\n",
    "# Copy of incremental data\n",
    "df_incr = new_data.copy()\n",
    "\n",
    "# 1. Cleaning\n",
    "df_incr.drop_duplicates(inplace=True)\n",
    "df_incr.fillna({'quantity': 0, 'unit_price': 0}, inplace=True)"
   ]
  },
  {
   "cell_type": "code",
   "execution_count": 18,
   "id": "066c421f",
   "metadata": {},
   "outputs": [],
   "source": [
    "# 2. Enrichment\n",
    "df_incr['Total_value'] = df_incr['Quantity'] * df_incr['Price per Unit']\n"
   ]
  },
  {
   "cell_type": "code",
   "execution_count": 19,
   "id": "fc0a42db",
   "metadata": {},
   "outputs": [],
   "source": [
    "# 3. Structural\n",
    "df_incr['Updated_at'] = pd.to_datetime(df_incr['Date'])"
   ]
  },
  {
   "cell_type": "code",
   "execution_count": 20,
   "id": "90bf16ec",
   "metadata": {},
   "outputs": [
    {
     "name": "stdout",
     "output_type": "stream",
     "text": [
      "Incremental data transformed and saved to transformed_incremental.csv\n"
     ]
    },
    {
     "data": {
      "text/html": [
       "<div>\n",
       "<style scoped>\n",
       "    .dataframe tbody tr th:only-of-type {\n",
       "        vertical-align: middle;\n",
       "    }\n",
       "\n",
       "    .dataframe tbody tr th {\n",
       "        vertical-align: top;\n",
       "    }\n",
       "\n",
       "    .dataframe thead th {\n",
       "        text-align: right;\n",
       "    }\n",
       "</style>\n",
       "<table border=\"1\" class=\"dataframe\">\n",
       "  <thead>\n",
       "    <tr style=\"text-align: right;\">\n",
       "      <th></th>\n",
       "      <th>Unnamed: 0</th>\n",
       "      <th>Date</th>\n",
       "      <th>Gender</th>\n",
       "      <th>Age</th>\n",
       "      <th>Product Category</th>\n",
       "      <th>Quantity</th>\n",
       "      <th>Price per Unit</th>\n",
       "      <th>Total Amount</th>\n",
       "      <th>Total_value</th>\n",
       "      <th>Updated_at</th>\n",
       "    </tr>\n",
       "  </thead>\n",
       "  <tbody>\n",
       "  </tbody>\n",
       "</table>\n",
       "</div>"
      ],
      "text/plain": [
       "Empty DataFrame\n",
       "Columns: [Unnamed: 0, Date, Gender, Age, Product Category, Quantity, Price per Unit, Total Amount, Total_value, Updated_at]\n",
       "Index: []"
      ]
     },
     "execution_count": 20,
     "metadata": {},
     "output_type": "execute_result"
    }
   ],
   "source": [
    "# Save transformed incremental data\n",
    "df_incr.to_csv('transformed_incremental.csv', index=False)\n",
    "print(\"Incremental data transformed and saved to transformed_incremental.csv\")\n",
    "df_incr.head(5)"
   ]
  }
 ],
 "metadata": {
  "kernelspec": {
   "display_name": "Python 3",
   "language": "python",
   "name": "python3"
  },
  "language_info": {
   "codemirror_mode": {
    "name": "ipython",
    "version": 3
   },
   "file_extension": ".py",
   "mimetype": "text/x-python",
   "name": "python",
   "nbconvert_exporter": "python",
   "pygments_lexer": "ipython3",
   "version": "3.11.9"
  }
 },
 "nbformat": 4,
 "nbformat_minor": 5
}
